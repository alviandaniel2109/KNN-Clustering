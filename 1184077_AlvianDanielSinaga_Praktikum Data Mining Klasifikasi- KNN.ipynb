{
 "cells": [
  {
   "cell_type": "markdown",
   "metadata": {},
   "source": [
    "# Nama: Alvian Daniel Sinaga\n",
    "# NPM : 1184077\n",
    "# Kelas: D4 TI 3C"
   ]
  },
  {
   "cell_type": "markdown",
   "metadata": {},
   "source": [
    "# Langkah 1: Impor library yang diperlukan\n"
   ]
  },
  {
   "cell_type": "code",
   "execution_count": 20,
   "metadata": {},
   "outputs": [],
   "source": [
    "import numpy as np\n",
    "import pandas as pd\n",
    "import matplotlib.pyplot as plt"
   ]
  },
  {
   "cell_type": "markdown",
   "metadata": {},
   "source": [
    "# Langkah 2  : Ambil data"
   ]
  },
  {
   "cell_type": "markdown",
   "metadata": {},
   "source": [
    "- simpan data kedalam variable = df_NPM\n",
    "- simpan data varibale bebas kedalam = X_NPM \n",
    "- simpan data variable terikat/target kedalam = y_NPM"
   ]
  },
  {
   "cell_type": "code",
   "execution_count": 2,
   "metadata": {},
   "outputs": [],
   "source": [
    "df_1184077 = pd.read_csv('Social_Network_Ads.csv')\n",
    "X_1184077 = df_1184077.iloc[:,[2,3]].values\n",
    "y_1184077 = df_1184077.iloc[:,4].values"
   ]
  },
  {
   "cell_type": "code",
   "execution_count": 3,
   "metadata": {},
   "outputs": [
    {
     "data": {
      "text/html": [
       "<div>\n",
       "<style scoped>\n",
       "    .dataframe tbody tr th:only-of-type {\n",
       "        vertical-align: middle;\n",
       "    }\n",
       "\n",
       "    .dataframe tbody tr th {\n",
       "        vertical-align: top;\n",
       "    }\n",
       "\n",
       "    .dataframe thead th {\n",
       "        text-align: right;\n",
       "    }\n",
       "</style>\n",
       "<table border=\"1\" class=\"dataframe\">\n",
       "  <thead>\n",
       "    <tr style=\"text-align: right;\">\n",
       "      <th></th>\n",
       "      <th>User ID</th>\n",
       "      <th>Gender</th>\n",
       "      <th>Age</th>\n",
       "      <th>EstimatedSalary</th>\n",
       "      <th>Purchased</th>\n",
       "    </tr>\n",
       "  </thead>\n",
       "  <tbody>\n",
       "    <tr>\n",
       "      <th>0</th>\n",
       "      <td>15624510</td>\n",
       "      <td>Male</td>\n",
       "      <td>19</td>\n",
       "      <td>19000</td>\n",
       "      <td>0</td>\n",
       "    </tr>\n",
       "    <tr>\n",
       "      <th>1</th>\n",
       "      <td>15810944</td>\n",
       "      <td>Male</td>\n",
       "      <td>35</td>\n",
       "      <td>20000</td>\n",
       "      <td>0</td>\n",
       "    </tr>\n",
       "    <tr>\n",
       "      <th>2</th>\n",
       "      <td>15668575</td>\n",
       "      <td>Female</td>\n",
       "      <td>26</td>\n",
       "      <td>43000</td>\n",
       "      <td>0</td>\n",
       "    </tr>\n",
       "    <tr>\n",
       "      <th>3</th>\n",
       "      <td>15603246</td>\n",
       "      <td>Female</td>\n",
       "      <td>27</td>\n",
       "      <td>57000</td>\n",
       "      <td>0</td>\n",
       "    </tr>\n",
       "    <tr>\n",
       "      <th>4</th>\n",
       "      <td>15804002</td>\n",
       "      <td>Male</td>\n",
       "      <td>19</td>\n",
       "      <td>76000</td>\n",
       "      <td>0</td>\n",
       "    </tr>\n",
       "  </tbody>\n",
       "</table>\n",
       "</div>"
      ],
      "text/plain": [
       "    User ID  Gender  Age  EstimatedSalary  Purchased\n",
       "0  15624510    Male   19            19000          0\n",
       "1  15810944    Male   35            20000          0\n",
       "2  15668575  Female   26            43000          0\n",
       "3  15603246  Female   27            57000          0\n",
       "4  15804002    Male   19            76000          0"
      ]
     },
     "execution_count": 3,
     "metadata": {},
     "output_type": "execute_result"
    }
   ],
   "source": [
    "df_1184077.head()"
   ]
  },
  {
   "cell_type": "code",
   "execution_count": 4,
   "metadata": {},
   "outputs": [
    {
     "name": "stdout",
     "output_type": "stream",
     "text": [
      "<class 'pandas.core.frame.DataFrame'>\n",
      "RangeIndex: 400 entries, 0 to 399\n",
      "Data columns (total 5 columns):\n",
      " #   Column           Non-Null Count  Dtype \n",
      "---  ------           --------------  ----- \n",
      " 0   User ID          400 non-null    int64 \n",
      " 1   Gender           400 non-null    object\n",
      " 2   Age              400 non-null    int64 \n",
      " 3   EstimatedSalary  400 non-null    int64 \n",
      " 4   Purchased        400 non-null    int64 \n",
      "dtypes: int64(4), object(1)\n",
      "memory usage: 15.8+ KB\n"
     ]
    }
   ],
   "source": [
    "df_1184077.info()"
   ]
  },
  {
   "cell_type": "markdown",
   "metadata": {},
   "source": [
    "# Langkah 3 : Membagi data set menjadi data train dan testing"
   ]
  },
  {
   "cell_type": "code",
   "execution_count": 5,
   "metadata": {},
   "outputs": [],
   "source": [
    "#Memisahkan kumpulan data ke dalam kumpulan Pelatihan dan kumpulan Pengujian\n",
    "from sklearn.model_selection import train_test_split\n",
    "X_train, X_test, y_train, y_test = train_test_split(X_1184077, y_1184077, test_size=0.25, random_state=0)"
   ]
  },
  {
   "cell_type": "code",
   "execution_count": 6,
   "metadata": {},
   "outputs": [
    {
     "data": {
      "text/plain": [
       "array([[    30,  87000],\n",
       "       [    38,  50000],\n",
       "       [    35,  75000],\n",
       "       [    30,  79000],\n",
       "       [    35,  50000],\n",
       "       [    27,  20000],\n",
       "       [    31,  15000],\n",
       "       [    36, 144000],\n",
       "       [    18,  68000],\n",
       "       [    47,  43000],\n",
       "       [    30,  49000],\n",
       "       [    28,  55000],\n",
       "       [    37,  55000],\n",
       "       [    39,  77000],\n",
       "       [    20,  86000],\n",
       "       [    32, 117000],\n",
       "       [    37,  77000],\n",
       "       [    19,  85000],\n",
       "       [    55, 130000],\n",
       "       [    35,  22000],\n",
       "       [    35,  47000],\n",
       "       [    47, 144000],\n",
       "       [    41,  51000],\n",
       "       [    47, 105000],\n",
       "       [    23,  28000],\n",
       "       [    49, 141000],\n",
       "       [    28,  87000],\n",
       "       [    29,  80000],\n",
       "       [    37,  62000],\n",
       "       [    32,  86000],\n",
       "       [    21,  88000],\n",
       "       [    37,  79000],\n",
       "       [    57,  60000],\n",
       "       [    37,  53000],\n",
       "       [    24,  58000],\n",
       "       [    18,  52000],\n",
       "       [    22,  81000],\n",
       "       [    34,  43000],\n",
       "       [    31,  34000],\n",
       "       [    49,  36000],\n",
       "       [    27,  88000],\n",
       "       [    41,  52000],\n",
       "       [    27,  84000],\n",
       "       [    35,  20000],\n",
       "       [    43, 112000],\n",
       "       [    27,  58000],\n",
       "       [    37,  80000],\n",
       "       [    52,  90000],\n",
       "       [    26,  30000],\n",
       "       [    49,  86000],\n",
       "       [    57, 122000],\n",
       "       [    34,  25000],\n",
       "       [    35,  57000],\n",
       "       [    34, 115000],\n",
       "       [    59,  88000],\n",
       "       [    45,  32000],\n",
       "       [    29,  83000],\n",
       "       [    26,  80000],\n",
       "       [    49,  28000],\n",
       "       [    23,  20000],\n",
       "       [    32,  18000],\n",
       "       [    60,  42000],\n",
       "       [    19,  76000],\n",
       "       [    36,  99000],\n",
       "       [    19,  26000],\n",
       "       [    60,  83000],\n",
       "       [    24,  89000],\n",
       "       [    27,  58000],\n",
       "       [    40,  47000],\n",
       "       [    42,  70000],\n",
       "       [    32, 150000],\n",
       "       [    35,  77000],\n",
       "       [    22,  63000],\n",
       "       [    45,  22000],\n",
       "       [    27,  89000],\n",
       "       [    18,  82000],\n",
       "       [    42,  79000],\n",
       "       [    40,  60000],\n",
       "       [    53,  34000],\n",
       "       [    47, 107000],\n",
       "       [    58, 144000],\n",
       "       [    59,  83000],\n",
       "       [    24,  55000],\n",
       "       [    26,  35000],\n",
       "       [    58,  38000],\n",
       "       [    42,  80000],\n",
       "       [    40,  75000],\n",
       "       [    59, 130000],\n",
       "       [    46,  41000],\n",
       "       [    41,  60000],\n",
       "       [    42,  64000],\n",
       "       [    37, 146000],\n",
       "       [    23,  48000],\n",
       "       [    25,  33000],\n",
       "       [    24,  84000],\n",
       "       [    27,  96000],\n",
       "       [    23,  63000],\n",
       "       [    48,  33000],\n",
       "       [    48,  90000],\n",
       "       [    42, 104000]], dtype=int64)"
      ]
     },
     "execution_count": 6,
     "metadata": {},
     "output_type": "execute_result"
    }
   ],
   "source": [
    "X_test"
   ]
  },
  {
   "cell_type": "markdown",
   "metadata": {},
   "source": [
    "# Langkah 4: Standarisasi (normalisasi) skala data untuk mempersiapkan algoritma KNN "
   ]
  },
  {
   "cell_type": "markdown",
   "metadata": {},
   "source": [
    "**Feature Scaling adalah suatu cara untuk membuat numerical data pada dataset memiliki rentang nilai (scale) yang sama**\n",
    "- simpan fungsi StandardScaler kedalam variable = sc_NPM"
   ]
  },
  {
   "cell_type": "code",
   "execution_count": 8,
   "metadata": {},
   "outputs": [],
   "source": [
    "from sklearn.preprocessing import StandardScaler\n",
    "sc_1184077 = StandardScaler()\n",
    "X_train = sc_1184077.fit_transform(X_train)\n",
    "X_test = sc_1184077.fit_transform(X_test)"
   ]
  },
  {
   "cell_type": "markdown",
   "metadata": {},
   "source": [
    "Menampikan data test yang sudah dilakukan fungsi perubahan skalar"
   ]
  },
  {
   "cell_type": "code",
   "execution_count": 9,
   "metadata": {},
   "outputs": [
    {
     "data": {
      "text/plain": [
       "array([[-0.54748976,  0.5130727 ],\n",
       "       [ 0.15442019, -0.61825566],\n",
       "       [-0.10879604,  0.14615539],\n",
       "       [-0.54748976,  0.26846116],\n",
       "       [-0.10879604, -0.61825566],\n",
       "       [-0.81070599, -1.53554892],\n",
       "       [-0.45975102, -1.68843113],\n",
       "       [-0.0210573 ,  2.25592989],\n",
       "       [-1.60035469, -0.0678797 ],\n",
       "       [ 0.94406888, -0.83229075],\n",
       "       [-0.54748976, -0.6488321 ],\n",
       "       [-0.72296725, -0.46537345],\n",
       "       [ 0.06668145, -0.46537345],\n",
       "       [ 0.24215893,  0.20730828],\n",
       "       [-1.4248772 ,  0.48249625],\n",
       "       [-0.37201227,  1.43036596],\n",
       "       [ 0.06668145,  0.20730828],\n",
       "       [-1.51261594,  0.45191981],\n",
       "       [ 1.64597884,  1.8278597 ],\n",
       "       [-0.10879604, -1.47439603],\n",
       "       [-0.10879604, -0.70998498],\n",
       "       [ 0.94406888,  2.25592989],\n",
       "       [ 0.41763642, -0.58767922],\n",
       "       [ 0.94406888,  1.06344865],\n",
       "       [-1.16166097, -1.29093738],\n",
       "       [ 1.11954637,  2.16420057],\n",
       "       [-0.72296725,  0.5130727 ],\n",
       "       [-0.63522851,  0.2990376 ],\n",
       "       [ 0.06668145, -0.25133835],\n",
       "       [-0.37201227,  0.48249625],\n",
       "       [-1.33713846,  0.54364914],\n",
       "       [ 0.06668145,  0.26846116],\n",
       "       [ 1.82145632, -0.31249124],\n",
       "       [ 0.06668145, -0.52652633],\n",
       "       [-1.07392223, -0.37364412],\n",
       "       [-1.60035469, -0.55710277],\n",
       "       [-1.24939971,  0.32961404],\n",
       "       [-0.19653479, -0.83229075],\n",
       "       [-0.45975102, -1.10747873],\n",
       "       [ 1.11954637, -1.04632585],\n",
       "       [-0.81070599,  0.54364914],\n",
       "       [ 0.41763642, -0.55710277],\n",
       "       [-0.81070599,  0.42134337],\n",
       "       [-0.10879604, -1.53554892],\n",
       "       [ 0.59311391,  1.27748375],\n",
       "       [-0.81070599, -0.37364412],\n",
       "       [ 0.06668145,  0.2990376 ],\n",
       "       [ 1.3827626 ,  0.60480202],\n",
       "       [-0.89844474, -1.2297845 ],\n",
       "       [ 1.11954637,  0.48249625],\n",
       "       [ 1.82145632,  1.58324817],\n",
       "       [-0.19653479, -1.38266671],\n",
       "       [-0.10879604, -0.40422056],\n",
       "       [-0.19653479,  1.36921307],\n",
       "       [ 1.99693381,  0.54364914],\n",
       "       [ 0.7685914 , -1.16863161],\n",
       "       [-0.63522851,  0.39076693],\n",
       "       [-0.89844474,  0.2990376 ],\n",
       "       [ 1.11954637, -1.29093738],\n",
       "       [-1.16166097, -1.53554892],\n",
       "       [-0.37201227, -1.5967018 ],\n",
       "       [ 2.08467255, -0.86286719],\n",
       "       [-1.51261594,  0.17673183],\n",
       "       [-0.0210573 ,  0.87999   ],\n",
       "       [-1.51261594, -1.35209027],\n",
       "       [ 2.08467255,  0.39076693],\n",
       "       [-1.07392223,  0.57422558],\n",
       "       [-0.81070599, -0.37364412],\n",
       "       [ 0.32989768, -0.70998498],\n",
       "       [ 0.50537516, -0.00672682],\n",
       "       [-0.37201227,  2.43938854],\n",
       "       [-0.10879604,  0.20730828],\n",
       "       [-1.24939971, -0.22076191],\n",
       "       [ 0.7685914 , -1.47439603],\n",
       "       [-0.81070599,  0.57422558],\n",
       "       [-1.60035469,  0.36019049],\n",
       "       [ 0.50537516,  0.26846116],\n",
       "       [ 0.32989768, -0.31249124],\n",
       "       [ 1.47050135, -1.10747873],\n",
       "       [ 0.94406888,  1.12460154],\n",
       "       [ 1.90919507,  2.25592989],\n",
       "       [ 1.99693381,  0.39076693],\n",
       "       [-1.07392223, -0.46537345],\n",
       "       [-0.89844474, -1.07690229],\n",
       "       [ 1.90919507, -0.98517296],\n",
       "       [ 0.50537516,  0.2990376 ],\n",
       "       [ 0.32989768,  0.14615539],\n",
       "       [ 1.99693381,  1.8278597 ],\n",
       "       [ 0.85633014, -0.89344364],\n",
       "       [ 0.41763642, -0.31249124],\n",
       "       [ 0.50537516, -0.19018547],\n",
       "       [ 0.06668145,  2.31708278],\n",
       "       [-1.16166097, -0.67940854],\n",
       "       [-0.98618348, -1.13805517],\n",
       "       [-1.07392223,  0.42134337],\n",
       "       [-0.81070599,  0.78826068],\n",
       "       [-1.16166097, -0.22076191],\n",
       "       [ 1.03180763, -1.13805517],\n",
       "       [ 1.03180763,  0.60480202],\n",
       "       [ 0.50537516,  1.03287221]])"
      ]
     },
     "execution_count": 9,
     "metadata": {},
     "output_type": "execute_result"
    }
   ],
   "source": [
    "X_test"
   ]
  },
  {
   "cell_type": "markdown",
   "metadata": {},
   "source": [
    "## Langkah 5 : Memilih Nilai K "
   ]
  },
  {
   "cell_type": "markdown",
   "metadata": {},
   "source": [
    "- simpan hasil kesalahan dalam variable = ER_NPM"
   ]
  },
  {
   "cell_type": "code",
   "execution_count": 14,
   "metadata": {},
   "outputs": [],
   "source": [
    "from sklearn.neighbors import KNeighborsClassifier"
   ]
  },
  {
   "cell_type": "code",
   "execution_count": 16,
   "metadata": {},
   "outputs": [],
   "source": [
    "ER_1184077 = []\n",
    "for i in range (1,40):\n",
    "\n",
    "    knn = KNeighborsClassifier(n_neighbors=i)\n",
    "    knn.fit(X_train, y_train)\n",
    "    pred_i = knn.predict(X_test)\n",
    "    ER_1184077.append(np.mean(pred_i != y_test))"
   ]
  },
  {
   "cell_type": "markdown",
   "metadata": {},
   "source": [
    "### Visualisasi Metode Elbow "
   ]
  },
  {
   "cell_type": "code",
   "execution_count": 21,
   "metadata": {},
   "outputs": [
    {
     "data": {
      "text/plain": [
       "Text(0, 0.5, 'Tingkat Kesalahan')"
      ]
     },
     "execution_count": 21,
     "metadata": {},
     "output_type": "execute_result"
    },
    {
     "data": {
      "image/png": "[encoded data removed]",
      "text/plain": [
       "<Figure size 720x432 with 1 Axes>"
      ]
     },
     "metadata": {
      "needs_background": "light"
     },
     "output_type": "display_data"
    }
   ],
   "source": [
    "plt.figure(figsize=(10,6))\n",
    "plt.plot(range(1,40),ER_1184077, color='red', linestyle='dashed', marker='o', markerfacecolor='red', markersize=10)\n",
    "plt.title('Tingakat Kesalahan vs K Value')\n",
    "plt.xlabel('K')\n",
    "plt.ylabel('Tingkat Kesalahan')"
   ]
  },
  {
   "cell_type": "markdown",
   "metadata": {},
   "source": [
    "# Langkah 6: Buat dan Latih Model"
   ]
  },
  {
   "cell_type": "markdown",
   "metadata": {},
   "source": [
    "## K = 1 "
   ]
  },
  {
   "cell_type": "markdown",
   "metadata": {},
   "source": [
    "- Kita akan gunakan K = 1\n",
    "- simpan fungsi KNeighborsClassifier ke dalam variable = knn_NPM"
   ]
  },
  {
   "cell_type": "code",
   "execution_count": 26,
   "metadata": {},
   "outputs": [
    {
     "data": {
      "text/plain": [
       "KNeighborsClassifier(n_neighbors=1)"
      ]
     },
     "execution_count": 26,
     "metadata": {},
     "output_type": "execute_result"
    }
   ],
   "source": [
    "from sklearn.neighbors import KNeighborsClassifier\n",
    "\n",
    "knn_1184077 = KNeighborsClassifier(n_neighbors=1)\n",
    "knn_1184077.fit(X_train, y_train)"
   ]
  },
  {
   "cell_type": "markdown",
   "metadata": {},
   "source": [
    "### Buat Prediksi  dari K = 1"
   ]
  },
  {
   "cell_type": "markdown",
   "metadata": {},
   "source": [
    "- simpan hasil prediksi pada variable = pred_K1_NPM"
   ]
  },
  {
   "cell_type": "code",
   "execution_count": 27,
   "metadata": {},
   "outputs": [],
   "source": [
    "pred_k1_1184077 = knn_1184077.predict(X_test)"
   ]
  },
  {
   "cell_type": "code",
   "execution_count": 28,
   "metadata": {},
   "outputs": [
    {
     "data": {
      "text/plain": [
       "array([0, 0, 0, 0, 0, 0, 0, 1, 0, 1, 0, 0, 0, 0, 0, 1, 1, 0, 1, 0, 0, 0,\n",
       "       0, 1, 0, 1, 0, 0, 0, 0, 0, 0, 1, 0, 0, 0, 0, 0, 0, 1, 0, 0, 0, 0,\n",
       "       1, 0, 0, 1, 0, 1, 1, 0, 0, 1, 1, 1, 0, 0, 1, 0, 0, 0, 0, 1, 0, 1,\n",
       "       0, 0, 0, 1, 1, 1, 0, 0, 0, 0, 0, 0, 1, 1, 1, 1, 0, 0, 1, 0, 0, 1,\n",
       "       1, 0, 0, 1, 0, 0, 0, 1, 0, 1, 1, 1], dtype=int64)"
      ]
     },
     "execution_count": 28,
     "metadata": {},
     "output_type": "execute_result"
    }
   ],
   "source": [
    "pred_k1_1184077"
   ]
  },
  {
   "cell_type": "markdown",
   "metadata": {},
   "source": [
    "### Melihat hasil prediksi dari data input dalam dataset "
   ]
  },
  {
   "cell_type": "code",
   "execution_count": 29,
   "metadata": {},
   "outputs": [
    {
     "name": "stdout",
     "output_type": "stream",
     "text": [
      "[-0.54748976  0.5130727 ] 0\n",
      "[ 0.15442019 -0.61825566] 0\n",
      "[-0.10879604  0.14615539] 0\n",
      "[-0.54748976  0.26846116] 0\n",
      "[-0.10879604 -0.61825566] 0\n",
      "[-0.81070599 -1.53554892] 0\n",
      "[-0.45975102 -1.68843113] 0\n",
      "[-0.0210573   2.25592989] 1\n",
      "[-1.60035469 -0.0678797 ] 0\n",
      "[ 0.94406888 -0.83229075] 1\n"
     ]
    }
   ],
   "source": [
    "for i in range(10):\n",
    "    print(X_test[i],pred_k1_1184077[i])"
   ]
  },
  {
   "cell_type": "markdown",
   "metadata": {},
   "source": [
    "### Evaluasi hasil model dengan K=1 "
   ]
  },
  {
   "cell_type": "code",
   "execution_count": 30,
   "metadata": {},
   "outputs": [],
   "source": [
    "from sklearn.metrics import classification_report,confusion_matrix"
   ]
  },
  {
   "cell_type": "code",
   "execution_count": 31,
   "metadata": {},
   "outputs": [
    {
     "name": "stdout",
     "output_type": "stream",
     "text": [
      "[[61  7]\n",
      " [ 5 27]]\n"
     ]
    }
   ],
   "source": [
    "print(confusion_matrix(y_test,pred_k1_1184077))"
   ]
  },
  {
   "cell_type": "code",
   "execution_count": 33,
   "metadata": {},
   "outputs": [
    {
     "name": "stdout",
     "output_type": "stream",
     "text": [
      "              precision    recall  f1-score   support\n",
      "\n",
      "           0       0.92      0.90      0.91        68\n",
      "           1       0.79      0.84      0.82        32\n",
      "\n",
      "    accuracy                           0.88       100\n",
      "   macro avg       0.86      0.87      0.86       100\n",
      "weighted avg       0.88      0.88      0.88       100\n",
      "\n"
     ]
    }
   ],
   "source": [
    "print(classification_report(y_test,pred_k1_1184077))"
   ]
  },
  {
   "cell_type": "markdown",
   "metadata": {},
   "source": [
    "## K = 5 "
   ]
  },
  {
   "cell_type": "code",
   "execution_count": 38,
   "metadata": {},
   "outputs": [
    {
     "data": {
      "text/plain": [
       "KNeighborsClassifier()"
      ]
     },
     "execution_count": 38,
     "metadata": {},
     "output_type": "execute_result"
    }
   ],
   "source": [
    "from sklearn.neighbors import KNeighborsClassifier\n",
    "\n",
    "knn_k5_1184077 = KNeighborsClassifier(n_neighbors=5)\n",
    "knn_k5_1184077.fit(X_train, y_train)"
   ]
  },
  {
   "cell_type": "code",
   "execution_count": 41,
   "metadata": {},
   "outputs": [],
   "source": [
    "pred_k5_1184077 = knn_k5_1184077.predict(X_test)"
   ]
  },
  {
   "cell_type": "code",
   "execution_count": 42,
   "metadata": {},
   "outputs": [
    {
     "data": {
      "text/plain": [
       "array([0, 0, 0, 0, 0, 0, 0, 1, 0, 1, 0, 0, 0, 0, 0, 1, 0, 0, 1, 0, 0, 1,\n",
       "       0, 1, 0, 1, 0, 0, 0, 0, 0, 0, 1, 0, 0, 0, 0, 0, 0, 1, 0, 0, 0, 0,\n",
       "       1, 0, 0, 1, 0, 1, 1, 0, 0, 1, 1, 1, 0, 0, 1, 0, 0, 1, 0, 1, 0, 1,\n",
       "       0, 0, 0, 0, 1, 0, 0, 1, 0, 0, 0, 0, 1, 1, 1, 1, 0, 0, 1, 0, 0, 1,\n",
       "       1, 0, 0, 1, 0, 0, 0, 0, 0, 1, 1, 1], dtype=int64)"
      ]
     },
     "execution_count": 42,
     "metadata": {},
     "output_type": "execute_result"
    }
   ],
   "source": [
    "pred_k5_1184077"
   ]
  },
  {
   "cell_type": "markdown",
   "metadata": {},
   "source": [
    "### Evaluasi hasil model dengan K=5"
   ]
  },
  {
   "cell_type": "code",
   "execution_count": 43,
   "metadata": {},
   "outputs": [
    {
     "name": "stdout",
     "output_type": "stream",
     "text": [
      "[[64  4]\n",
      " [ 3 29]]\n"
     ]
    }
   ],
   "source": [
    "print(confusion_matrix(y_test,pred_k5_1184077))"
   ]
  },
  {
   "cell_type": "code",
   "execution_count": 44,
   "metadata": {},
   "outputs": [
    {
     "name": "stdout",
     "output_type": "stream",
     "text": [
      "              precision    recall  f1-score   support\n",
      "\n",
      "           0       0.96      0.94      0.95        68\n",
      "           1       0.88      0.91      0.89        32\n",
      "\n",
      "    accuracy                           0.93       100\n",
      "   macro avg       0.92      0.92      0.92       100\n",
      "weighted avg       0.93      0.93      0.93       100\n",
      "\n"
     ]
    }
   ],
   "source": [
    "print(classification_report(y_test,pred_k5_1184077))"
   ]
  },
  {
   "cell_type": "code",
   "execution_count": null,
   "metadata": {},
   "outputs": [],
   "source": []
  }
 ],
 "metadata": {
  "kernelspec": {
   "display_name": "Python 3",
   "language": "python",
   "name": "python3"
  },
  "language_info": {
   "codemirror_mode": {
    "name": "ipython",
    "version": 3
   },
   "file_extension": ".py",
   "mimetype": "text/x-python",
   "name": "python",
   "nbconvert_exporter": "python",
   "pygments_lexer": "ipython3",
   "version": "3.8.5"
  }
 },
 "nbformat": 4,
 "nbformat_minor": 2
}
